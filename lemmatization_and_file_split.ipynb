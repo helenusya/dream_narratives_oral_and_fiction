{
 "cells": [
  {
   "cell_type": "code",
   "execution_count": null,
   "metadata": {
    "vscode": {
     "languageId": "plaintext"
    }
   },
   "outputs": [],
   "source": [
    "!pip install nltk\n",
    "!pip install pymorphy3\n",
    "!pip install scipy==1.12\n",
    "!pip install gensim\n",
    "!pip install scikit-learn\n",
    "!pip install pandas\n",
    "!pip install matplotlib\n",
    "!pip install pyLDAvis\n",
    "!pip install seaborn"
   ]
  },
  {
   "cell_type": "markdown",
   "metadata": {},
   "source": [
    "<h3>Функция лемматизации</h3>"
   ]
  },
  {
   "cell_type": "code",
   "execution_count": null,
   "metadata": {},
   "outputs": [],
   "source": [
    "import re\n",
    "from pymorphy3 import MorphAnalyzer\n",
    "\n",
    "patterns = \"[A-Za-z0-9!#$%&'()*+,./:;<=>?@[\\]^_`{|}~—\\\"\\-–»….“«]+\"\n",
    "morph = MorphAnalyzer()\n",
    "\n",
    "def lemmatize(doc):\n",
    "    doc = re.sub(patterns, ' ', doc)\n",
    "    tokens = []\n",
    "    for token in doc.split():\n",
    "        if token:\n",
    "            token_before = token.strip()\n",
    "            token = morph.normal_forms(token_before)[0]\n",
    "            \n",
    "            tokens.append(token)\n",
    "    if len(tokens) > 2:\n",
    "        return ' '.join(tokens)\n",
    "    return None"
   ]
  },
  {
   "cell_type": "markdown",
   "metadata": {},
   "source": [
    "<h3>Применение лемматизации</h3>"
   ]
  },
  {
   "cell_type": "code",
   "execution_count": null,
   "metadata": {},
   "outputs": [],
   "source": [
    "import pandas as pd\n",
    "colnames=['dream','name'] \n",
    "df1 = pd.read_csv('fiction.csv', header=None, names=colnames) # в csv файлах для удобства\n",
    "\n",
    "df1[\"dream\"] = df1[\"dream\"].apply(lemmatize)\n",
    "\n",
    "df2 = pd.read_csv('oral.csv', header=None, names=colnames)\n",
    "\n",
    "df2[\"dream\"] = df2[\"dream\"].apply(lemmatize)"
   ]
  },
  {
   "cell_type": "markdown",
   "metadata": {},
   "source": [
    "<h3>Примеры</h3>"
   ]
  },
  {
   "cell_type": "code",
   "execution_count": null,
   "metadata": {},
   "outputs": [
    {
     "name": "stdout",
     "output_type": "stream",
     "text": [
      "                                               dream  \\\n",
      "0  я опустить циновка закутаться в шуба и задрема...   \n",
      "1  как будто он впадать в полудремота холод ли мр...   \n",
      "2  утром страшный кошмар несколько раз повторятьс...   \n",
      "3  зато в сон когда она не иметь власть над свой ...   \n",
      "4  и сниться верочка сон сниться она что она запе...   \n",
      "\n",
      "                                        name  \n",
      "0              А.С. Пушкин_Капитанская дочка  \n",
      "1  Ф.М. Достоевский_Преступление и наказание  \n",
      "2                 Л.Н. Толстой_Анна Каренина  \n",
      "3                 Л.Н. Толстой_Анна Каренина  \n",
      "4               Н.Г. Чернышевский_Что делать  \n",
      "                                               dream         name\n",
      "0  а потом про зайчик сон а зайчик вот он быть в ...  NDS_001-f-z\n",
      "1  сон называться про собачку” собачка пойти вот ...  NDS_002-f-z\n",
      "2  мой птичка летать вокруг и вот смотреть они бы...  NDS_003-f-z\n",
      "3  я один раз кататься на лошадь потом я потом он...  NDS_004-m-z\n",
      "4  мы с папа сидеть на диван и у говорить а а мам...  NDS_005-m-z\n"
     ]
    }
   ],
   "source": [
    "print(df1.head(5))\n",
    "print(df2.head(5))"
   ]
  },
  {
   "cell_type": "markdown",
   "metadata": {},
   "source": [
    "<h3>Разбирение на файлы</h3>"
   ]
  },
  {
   "cell_type": "code",
   "execution_count": null,
   "metadata": {},
   "outputs": [],
   "source": [
    "for i, row in df1.iterrows():\n",
    "    with open(f'fiction_{i}_{row[\"name\"]}.txt', 'w', encoding='utf-8') as f:\n",
    "        f.write(str(row['dream']))\n",
    "#примеры как будет выглядеть\n",
    "# fiction_117_А.П. Гайдар_Школа.txt \n",
    "# fiction_118_А.И. Пантелеев_Ленька Пантелеев.txt\n",
    "for i, row in df2.iterrows():\n",
    "    with open(f'oral_{i}{row[\"name\"].replace(\"NDS\",\"\")}.txt', 'w', encoding='utf-8') as f:\n",
    "        f.write(str(row['dream']))\n",
    "#примеры как будет выглядеть\n",
    "# oral_0_001-f-z.txt \n",
    "# oral_79_080-f-n.txt"
   ]
  }
 ],
 "metadata": {
  "language_info": {
   "name": "python"
  }
 },
 "nbformat": 4,
 "nbformat_minor": 2
}
